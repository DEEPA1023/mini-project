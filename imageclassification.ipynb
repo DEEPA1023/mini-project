{
  "nbformat": 4,
  "nbformat_minor": 0,
  "metadata": {
    "colab": {
      "name": "imageclassification.ipynb",
      "provenance": [],
      "collapsed_sections": [],
      "authorship_tag": "ABX9TyMpQKKo3eG6eSm46y0ZVcMX",
      "include_colab_link": true
    },
    "kernelspec": {
      "name": "python3",
      "display_name": "Python 3"
    },
    "language_info": {
      "name": "python"
    }
  },
  "cells": [
    {
      "cell_type": "markdown",
      "metadata": {
        "id": "view-in-github",
        "colab_type": "text"
      },
      "source": [
        "<a href=\"https://colab.research.google.com/github/DEEPA1023/mini-project/blob/main/imageclassification.ipynb\" target=\"_parent\"><img src=\"https://colab.research.google.com/assets/colab-badge.svg\" alt=\"Open In Colab\"/></a>"
      ]
    },
    {
      "cell_type": "code",
      "metadata": {
        "colab": {
          "base_uri": "https://localhost:8080/"
        },
        "id": "mz6-MkjAmtzN",
        "outputId": "1a43b2fd-af09-460a-9187-26647332296b"
      },
      "source": [
        "!pip install ipython-autotime\n",
        "%load_ext autotime"
      ],
      "execution_count": 2,
      "outputs": [
        {
          "output_type": "stream",
          "text": [
            "Collecting ipython-autotime\n",
            "  Downloading https://files.pythonhosted.org/packages/b4/c9/b413a24f759641bc27ef98c144b590023c8038dfb8a3f09e713e9dff12c1/ipython_autotime-0.3.1-py2.py3-none-any.whl\n",
            "Requirement already satisfied: ipython in /usr/local/lib/python3.7/dist-packages (from ipython-autotime) (5.5.0)\n",
            "Requirement already satisfied: decorator in /usr/local/lib/python3.7/dist-packages (from ipython->ipython-autotime) (4.4.2)\n",
            "Requirement already satisfied: simplegeneric>0.8 in /usr/local/lib/python3.7/dist-packages (from ipython->ipython-autotime) (0.8.1)\n",
            "Requirement already satisfied: pickleshare in /usr/local/lib/python3.7/dist-packages (from ipython->ipython-autotime) (0.7.5)\n",
            "Requirement already satisfied: setuptools>=18.5 in /usr/local/lib/python3.7/dist-packages (from ipython->ipython-autotime) (56.0.0)\n",
            "Requirement already satisfied: pexpect; sys_platform != \"win32\" in /usr/local/lib/python3.7/dist-packages (from ipython->ipython-autotime) (4.8.0)\n",
            "Requirement already satisfied: pygments in /usr/local/lib/python3.7/dist-packages (from ipython->ipython-autotime) (2.6.1)\n",
            "Requirement already satisfied: prompt-toolkit<2.0.0,>=1.0.4 in /usr/local/lib/python3.7/dist-packages (from ipython->ipython-autotime) (1.0.18)\n",
            "Requirement already satisfied: traitlets>=4.2 in /usr/local/lib/python3.7/dist-packages (from ipython->ipython-autotime) (5.0.5)\n",
            "Requirement already satisfied: ptyprocess>=0.5 in /usr/local/lib/python3.7/dist-packages (from pexpect; sys_platform != \"win32\"->ipython->ipython-autotime) (0.7.0)\n",
            "Requirement already satisfied: six>=1.9.0 in /usr/local/lib/python3.7/dist-packages (from prompt-toolkit<2.0.0,>=1.0.4->ipython->ipython-autotime) (1.15.0)\n",
            "Requirement already satisfied: wcwidth in /usr/local/lib/python3.7/dist-packages (from prompt-toolkit<2.0.0,>=1.0.4->ipython->ipython-autotime) (0.2.5)\n",
            "Requirement already satisfied: ipython-genutils in /usr/local/lib/python3.7/dist-packages (from traitlets>=4.2->ipython->ipython-autotime) (0.2.0)\n",
            "Installing collected packages: ipython-autotime\n",
            "Successfully installed ipython-autotime-0.3.1\n",
            "time: 171 µs (started: 2021-04-28 13:59:56 +00:00)\n"
          ],
          "name": "stdout"
        }
      ]
    },
    {
      "cell_type": "code",
      "metadata": {
        "colab": {
          "base_uri": "https://localhost:8080/"
        },
        "id": "_Nqj3BEzhZcC",
        "outputId": "952e8a00-4066-4ee7-be37-2fe3d9ea1b06"
      },
      "source": [
        "!pip install bing-image-downloader"
      ],
      "execution_count": 3,
      "outputs": [
        {
          "output_type": "stream",
          "text": [
            "Collecting bing-image-downloader\n",
            "  Downloading https://files.pythonhosted.org/packages/0d/bf/537a61030b84ae4cd5022d5c7b014fd9bc3ce7c02358919153a6658a61d3/bing_image_downloader-1.0.4-py3-none-any.whl\n",
            "Installing collected packages: bing-image-downloader\n",
            "Successfully installed bing-image-downloader-1.0.4\n",
            "time: 3.24 s (started: 2021-04-28 14:00:03 +00:00)\n"
          ],
          "name": "stdout"
        }
      ]
    },
    {
      "cell_type": "code",
      "metadata": {
        "id": "KbBgTHyUjSlL",
        "colab": {
          "base_uri": "https://localhost:8080/"
        },
        "outputId": "428a9865-6161-47f5-e686-4078f9f8f56f"
      },
      "source": [
        "!mkdir images"
      ],
      "execution_count": 4,
      "outputs": [
        {
          "output_type": "stream",
          "text": [
            "time: 115 ms (started: 2021-04-28 14:00:10 +00:00)\n"
          ],
          "name": "stdout"
        }
      ]
    },
    {
      "cell_type": "code",
      "metadata": {
        "colab": {
          "base_uri": "https://localhost:8080/"
        },
        "id": "hZxPYzZPjYdY",
        "outputId": "530435f5-0f34-4881-ff16-3a68b34fad18"
      },
      "source": [
        "from bing_image_downloader import downloader\n",
        "downloader.download(\"single pumpkin\", limit=30,output_dir='images',adult_filter_off = True)"
      ],
      "execution_count": 5,
      "outputs": [
        {
          "output_type": "stream",
          "text": [
            "\n",
            "\n",
            "[!!]Indexing page: 1\n",
            "\n",
            "[%] Indexed 13 Images on Page 1.\n",
            "\n",
            "===============================================\n",
            "\n",
            "[%] Downloading Image #1 from https://www.cookingclassy.com/wp-content/uploads/2017/09/pumpkin-cookies-cream-cheese-frosting-20.jpg\n",
            "[%] File Downloaded !\n",
            "\n",
            "[%] Downloading Image #2 from https://easydessert.org/wp-content/uploads/2015/10/Chocolate-Cake.jpg\n",
            "[%] File Downloaded !\n",
            "\n",
            "[%] Downloading Image #3 from http://agentpalmer.com/wp-content/uploads/2014/10/All-Hallows-Eve.jpg\n",
            "[%] File Downloaded !\n",
            "\n",
            "[%] Downloading Image #4 from https://media1.popsugar-assets.com/files/thumbor/1Idppvs00DTf6nPp5CkLBFlvrEE/fit-in/2048xorig/filters:format_auto-!!-:strip_icc-!!-/2017/09/18/958/n/1922441/tmp_SksRPX_53f5723d949abc87_tumblr_ovdkbun9pk1tmqc45o7_540.gif\n",
            "[%] File Downloaded !\n",
            "\n",
            "[%] Downloading Image #5 from https://www.bing.com/th/id/OGC.49862cf8cef6c15b584e1f18bbd297f8?pid=1.7&amp;rurl=https%3a%2f%2fmedia1.popsugar-assets.com%2ffiles%2fthumbor%2f1Idppvs00DTf6nPp5CkLBFlvrEE%2ffit-in%2f2048xorig%2ffilters%3aformat_auto-!!-%3astrip_icc-!!-%2f2017%2f09%2f18%2f958%2fn%2f1922441%2ftmp_SksRPX_53f5723d949abc87_tumblr_ovdkbun9pk1tmqc45o7_540.gif&amp;ehk=zS2qVZeoSC%2fXHBuFYk44bzEVzz0G7MbmJ7izXNgWY0A%3d\n",
            "[!] Issue getting: https://www.bing.com/th/id/OGC.49862cf8cef6c15b584e1f18bbd297f8?pid=1.7&amp;rurl=https%3a%2f%2fmedia1.popsugar-assets.com%2ffiles%2fthumbor%2f1Idppvs00DTf6nPp5CkLBFlvrEE%2ffit-in%2f2048xorig%2ffilters%3aformat_auto-!!-%3astrip_icc-!!-%2f2017%2f09%2f18%2f958%2fn%2f1922441%2ftmp_SksRPX_53f5723d949abc87_tumblr_ovdkbun9pk1tmqc45o7_540.gif&amp;ehk=zS2qVZeoSC%2fXHBuFYk44bzEVzz0G7MbmJ7izXNgWY0A%3d\n",
            "[!] Error:: HTTP Error 404: Not Found\n",
            "[%] Downloading Image #5 from http://www.angelospasta.com.au/wp-content/uploads/2014/10/Tortellini-1-600x600.jpg\n",
            "[%] File Downloaded !\n",
            "\n",
            "[%] Downloading Image #6 from http://sugar-n-spicegals.com/wp-content/uploads/2016/10/Perfect-PUmpkin-Poke-Cake--628x1024.jpg\n",
            "[%] File Downloaded !\n",
            "\n",
            "[%] Downloading Image #7 from http://www.wildroseheritageseed.com/uploads/4/2/2/4/42241473/s145558776392258095_p92_i85_w640.jpeg\n",
            "[%] File Downloaded !\n",
            "\n",
            "[%] Downloading Image #8 from https://vignette.wikia.nocookie.net/himym/images/0/09/Slutty_Pumpkin.jpg/revision/latest?cb=20100416175648\n",
            "[%] File Downloaded !\n",
            "\n",
            "[%] Downloading Image #9 from http://www.wildroseheritageseed.com/uploads/4/2/2/4/42241473/s145558776392258095_p74_i65_w640.jpeg\n",
            "[%] File Downloaded !\n",
            "\n",
            "[%] Downloading Image #10 from https://4.bp.blogspot.com/-yLs5cBcI9qQ/VCud8KPdCxI/AAAAAAAA_xA/R9TUAcqK0-8/s1600/DSC08626.jpg\n",
            "[%] File Downloaded !\n",
            "\n",
            "[%] Downloading Image #11 from http://www.chocolatecoveredkatie.com/wp-content/uploads/Lemon-Blueberry-Cake-Calories-and-Nutrit_101A0/image_thumb.png\n",
            "[%] File Downloaded !\n",
            "\n",
            "[%] Downloading Image #12 from https://www.digsdigs.com/photos/guest-toilet-21-554x739.jpg\n",
            "[%] File Downloaded !\n",
            "\n",
            "\n",
            "\n",
            "[!!]Indexing page: 2\n",
            "\n",
            "[%] Indexed 13 Images on Page 2.\n",
            "\n",
            "===============================================\n",
            "\n",
            "[%] Downloading Image #13 from https://www.cookingclassy.com/wp-content/uploads/2017/09/pumpkin-cookies-cream-cheese-frosting-20.jpg\n",
            "[%] File Downloaded !\n",
            "\n",
            "[%] Downloading Image #14 from https://easydessert.org/wp-content/uploads/2015/10/Chocolate-Cake.jpg\n",
            "[%] File Downloaded !\n",
            "\n",
            "[%] Downloading Image #15 from http://agentpalmer.com/wp-content/uploads/2014/10/All-Hallows-Eve.jpg\n",
            "[%] File Downloaded !\n",
            "\n",
            "[%] Downloading Image #16 from https://media1.popsugar-assets.com/files/thumbor/1Idppvs00DTf6nPp5CkLBFlvrEE/fit-in/2048xorig/filters:format_auto-!!-:strip_icc-!!-/2017/09/18/958/n/1922441/tmp_SksRPX_53f5723d949abc87_tumblr_ovdkbun9pk1tmqc45o7_540.gif\n",
            "[%] File Downloaded !\n",
            "\n",
            "[%] Downloading Image #17 from https://www.bing.com/th/id/OGC.49862cf8cef6c15b584e1f18bbd297f8?pid=1.7&amp;rurl=https%3a%2f%2fmedia1.popsugar-assets.com%2ffiles%2fthumbor%2f1Idppvs00DTf6nPp5CkLBFlvrEE%2ffit-in%2f2048xorig%2ffilters%3aformat_auto-!!-%3astrip_icc-!!-%2f2017%2f09%2f18%2f958%2fn%2f1922441%2ftmp_SksRPX_53f5723d949abc87_tumblr_ovdkbun9pk1tmqc45o7_540.gif&amp;ehk=zS2qVZeoSC%2fXHBuFYk44bzEVzz0G7MbmJ7izXNgWY0A%3d\n",
            "[!] Issue getting: https://www.bing.com/th/id/OGC.49862cf8cef6c15b584e1f18bbd297f8?pid=1.7&amp;rurl=https%3a%2f%2fmedia1.popsugar-assets.com%2ffiles%2fthumbor%2f1Idppvs00DTf6nPp5CkLBFlvrEE%2ffit-in%2f2048xorig%2ffilters%3aformat_auto-!!-%3astrip_icc-!!-%2f2017%2f09%2f18%2f958%2fn%2f1922441%2ftmp_SksRPX_53f5723d949abc87_tumblr_ovdkbun9pk1tmqc45o7_540.gif&amp;ehk=zS2qVZeoSC%2fXHBuFYk44bzEVzz0G7MbmJ7izXNgWY0A%3d\n",
            "[!] Error:: HTTP Error 404: Not Found\n",
            "[%] Downloading Image #17 from http://www.angelospasta.com.au/wp-content/uploads/2014/10/Tortellini-1-600x600.jpg\n",
            "[%] File Downloaded !\n",
            "\n",
            "[%] Downloading Image #18 from http://sugar-n-spicegals.com/wp-content/uploads/2016/10/Perfect-PUmpkin-Poke-Cake--628x1024.jpg\n",
            "[%] File Downloaded !\n",
            "\n",
            "[%] Downloading Image #19 from http://www.wildroseheritageseed.com/uploads/4/2/2/4/42241473/s145558776392258095_p92_i85_w640.jpeg\n",
            "[%] File Downloaded !\n",
            "\n",
            "[%] Downloading Image #20 from https://vignette.wikia.nocookie.net/himym/images/0/09/Slutty_Pumpkin.jpg/revision/latest?cb=20100416175648\n",
            "[%] File Downloaded !\n",
            "\n",
            "[%] Downloading Image #21 from http://www.wildroseheritageseed.com/uploads/4/2/2/4/42241473/s145558776392258095_p74_i65_w640.jpeg\n",
            "[%] File Downloaded !\n",
            "\n",
            "[%] Downloading Image #22 from https://4.bp.blogspot.com/-yLs5cBcI9qQ/VCud8KPdCxI/AAAAAAAA_xA/R9TUAcqK0-8/s1600/DSC08626.jpg\n",
            "[%] File Downloaded !\n",
            "\n",
            "[%] Downloading Image #23 from http://www.chocolatecoveredkatie.com/wp-content/uploads/Lemon-Blueberry-Cake-Calories-and-Nutrit_101A0/image_thumb.png\n",
            "[%] File Downloaded !\n",
            "\n",
            "[%] Downloading Image #24 from https://www.digsdigs.com/photos/guest-toilet-21-554x739.jpg\n",
            "[%] File Downloaded !\n",
            "\n",
            "\n",
            "\n",
            "[!!]Indexing page: 3\n",
            "\n",
            "[%] Indexed 12 Images on Page 3.\n",
            "\n",
            "===============================================\n",
            "\n",
            "[%] Downloading Image #25 from https://media1.popsugar-assets.com/files/thumbor/1Idppvs00DTf6nPp5CkLBFlvrEE/fit-in/2048xorig/filters:format_auto-!!-:strip_icc-!!-/2017/09/18/958/n/1922441/tmp_SksRPX_53f5723d949abc87_tumblr_ovdkbun9pk1tmqc45o7_540.gif\n",
            "[%] File Downloaded !\n",
            "\n",
            "[%] Downloading Image #26 from https://www.bing.com/th/id/OGC.49862cf8cef6c15b584e1f18bbd297f8?pid=1.7&amp;rurl=https%3a%2f%2fmedia1.popsugar-assets.com%2ffiles%2fthumbor%2f1Idppvs00DTf6nPp5CkLBFlvrEE%2ffit-in%2f2048xorig%2ffilters%3aformat_auto-!!-%3astrip_icc-!!-%2f2017%2f09%2f18%2f958%2fn%2f1922441%2ftmp_SksRPX_53f5723d949abc87_tumblr_ovdkbun9pk1tmqc45o7_540.gif&amp;ehk=zS2qVZeoSC%2fXHBuFYk44bzEVzz0G7MbmJ7izXNgWY0A%3d\n",
            "[!] Issue getting: https://www.bing.com/th/id/OGC.49862cf8cef6c15b584e1f18bbd297f8?pid=1.7&amp;rurl=https%3a%2f%2fmedia1.popsugar-assets.com%2ffiles%2fthumbor%2f1Idppvs00DTf6nPp5CkLBFlvrEE%2ffit-in%2f2048xorig%2ffilters%3aformat_auto-!!-%3astrip_icc-!!-%2f2017%2f09%2f18%2f958%2fn%2f1922441%2ftmp_SksRPX_53f5723d949abc87_tumblr_ovdkbun9pk1tmqc45o7_540.gif&amp;ehk=zS2qVZeoSC%2fXHBuFYk44bzEVzz0G7MbmJ7izXNgWY0A%3d\n",
            "[!] Error:: HTTP Error 404: Not Found\n",
            "[%] Downloading Image #26 from http://sugar-n-spicegals.com/wp-content/uploads/2016/10/Perfect-PUmpkin-Poke-Cake--628x1024.jpg\n",
            "[%] File Downloaded !\n",
            "\n",
            "[%] Downloading Image #27 from https://vignette.wikia.nocookie.net/himym/images/0/09/Slutty_Pumpkin.jpg/revision/latest?cb=20100416175648\n",
            "[%] File Downloaded !\n",
            "\n",
            "[%] Downloading Image #28 from http://www.chocolatecoveredkatie.com/wp-content/uploads/Lemon-Blueberry-Cake-Calories-and-Nutrit_101A0/image_thumb.png\n",
            "[%] File Downloaded !\n",
            "\n",
            "[%] Downloading Image #29 from http://www.angelospasta.com.au/wp-content/uploads/2014/10/Tortellini-1-600x600.jpg\n",
            "[%] File Downloaded !\n",
            "\n",
            "[%] Downloading Image #30 from http://www.wildroseheritageseed.com/uploads/4/2/2/4/42241473/s145558776392258095_p74_i65_w640.jpeg\n",
            "[%] File Downloaded !\n",
            "\n",
            "\n",
            "\n",
            "[%] Done. Downloaded 30 images.\n",
            "\n",
            "===============================================\n",
            "\n",
            "time: 11.2 s (started: 2021-04-28 14:00:15 +00:00)\n"
          ],
          "name": "stdout"
        }
      ]
    },
    {
      "cell_type": "code",
      "metadata": {
        "colab": {
          "base_uri": "https://localhost:8080/"
        },
        "id": "X6B5_ekBkca4",
        "outputId": "7dc9fee1-7912-41a9-f5d2-cb72fb273b17"
      },
      "source": [
        "downloader.download(\"laptops\", limit=30,output_dir='images',adult_filter_off = True)"
      ],
      "execution_count": 6,
      "outputs": [
        {
          "output_type": "stream",
          "text": [
            "\n",
            "\n",
            "[!!]Indexing page: 1\n",
            "\n",
            "[%] Indexed 11 Images on Page 1.\n",
            "\n",
            "===============================================\n",
            "\n",
            "[%] Downloading Image #1 from https://www.hdwallpapers.in/download/moraine_lake_canada_4k-1680x1050.jpg\n",
            "[%] File Downloaded !\n",
            "\n",
            "[%] Downloading Image #2 from https://www.hdwallpapers.in/download/autumn_red_forest-1920x1200.jpg\n",
            "[%] File Downloaded !\n",
            "\n",
            "[%] Downloading Image #3 from https://www.hdwallpapers.in/download/eiffel_tower_paris_france-1680x1050.jpg\n",
            "[%] File Downloaded !\n",
            "\n",
            "[%] Downloading Image #4 from https://www.hdwallpapers.in/download/paris_eiffel_tower-1920x1080.jpg\n",
            "[%] File Downloaded !\n",
            "\n",
            "[%] Downloading Image #5 from https://www.hdwallpapers.in/download/forest_under_moon_sky_hd_dark_aesthetic-1366x768.jpg\n",
            "[%] File Downloaded !\n",
            "\n",
            "[%] Downloading Image #6 from https://www.hdwallpapers.in/download/brown_squirrel_is_standing_on_tree_trunk_eating_nuts_hd_animals-1280x720.jpg\n",
            "[%] File Downloaded !\n",
            "\n",
            "[%] Downloading Image #7 from https://www.hdwallpapers.in/download/exodus_gods_and_kings_movie-1920x1080.jpg\n",
            "[%] File Downloaded !\n",
            "\n",
            "[%] Downloading Image #8 from https://www.hdwallpapers.in/download/notre_dame_fire_art_paris_france_hd_travel-1280x720.jpg\n",
            "[%] File Downloaded !\n",
            "\n",
            "[%] Downloading Image #9 from https://img.xcitefun.net/users/2015/01/369809,xcitefun-birthday-morning-7.jpg\n",
            "[%] File Downloaded !\n",
            "\n",
            "[%] Downloading Image #10 from https://www.hdwallpapers.in/download/rwby_ruby_rose-540x960.jpg\n",
            "[%] File Downloaded !\n",
            "\n",
            "[%] Downloading Image #11 from https://www.hdwallpapers.in/download/destiny_2_beyond_light_2021_4k_hd_destiny_2_beyond_light-1366x768.jpg\n",
            "[%] File Downloaded !\n",
            "\n",
            "\n",
            "\n",
            "[!!]Indexing page: 2\n",
            "\n",
            "[%] Indexed 12 Images on Page 2.\n",
            "\n",
            "===============================================\n",
            "\n",
            "[%] Downloading Image #12 from https://www.hdwallpapers.in/download/autumn_morning-1920x1080.jpg\n",
            "[%] File Downloaded !\n",
            "\n",
            "[%] Downloading Image #13 from https://www.hdwallpapers.in/download/icelands_ring_road-1366x768.jpg\n",
            "[%] File Downloaded !\n",
            "\n",
            "[%] Downloading Image #14 from https://www.hdwallpapers.in/download/disney_aladdin_2019-540x960.jpg\n",
            "[%] File Downloaded !\n",
            "\n",
            "[%] Downloading Image #15 from https://www.hdwallpapers.in/download/apple_mac_os_x_el_capitan-1920x1200.jpg\n",
            "[%] File Downloaded !\n",
            "\n",
            "[%] Downloading Image #16 from https://www.hdwallpapers.in/download/lamborghini_huracan_evo_2019_4k_2-1366x768.jpg\n",
            "[%] File Downloaded !\n",
            "\n",
            "[%] Downloading Image #17 from https://www.hdwallpapers.in/download/apple_mac_os_x_el_capitan-1920x1080.jpg\n",
            "[%] File Downloaded !\n",
            "\n",
            "[%] Downloading Image #18 from https://www.hdwallpapers.in/download/grinch-540x960.jpg\n",
            "[%] File Downloaded !\n",
            "\n",
            "[%] Downloading Image #19 from https://www.hdwallpapers.in/download/beautiful_red_flowers-2560x1440.jpg\n",
            "[%] File Downloaded !\n",
            "\n",
            "[%] Downloading Image #20 from https://www.hdwallpapers.in/download/autumn_forest_5k-1920x1080.jpg\n",
            "[%] File Downloaded !\n",
            "\n",
            "[%] Downloading Image #21 from https://www.hdwallpapers.in/download/destiny_2_beyond_light_2020_4k_hd-1280x720.jpg\n",
            "[%] File Downloaded !\n",
            "\n",
            "[%] Downloading Image #22 from https://www.hdwallpapers.in/download/ash_lynx_eiji_okumura_together_hd_banana_fish_anime-1366x768.jpg\n",
            "[%] File Downloaded !\n",
            "\n",
            "[%] Downloading Image #23 from https://www.hdwallpapers.in/download/darth_vader_red_lightsaber_sith_star_wars_4k_hd_darth_vader-1600x900.jpg\n",
            "[%] File Downloaded !\n",
            "\n",
            "\n",
            "\n",
            "[!!]Indexing page: 3\n",
            "\n",
            "[%] Indexed 10 Images on Page 3.\n",
            "\n",
            "===============================================\n",
            "\n",
            "[%] Downloading Image #24 from https://www.hdwallpapers.in/download/autumn_red_forest-1920x1200.jpg\n",
            "[%] File Downloaded !\n",
            "\n",
            "[%] Downloading Image #25 from https://www.hdwallpapers.in/download/eiffel_tower_paris_france-1680x1050.jpg\n",
            "[%] File Downloaded !\n",
            "\n",
            "[%] Downloading Image #26 from https://www.hdwallpapers.in/download/paris_eiffel_tower-1920x1080.jpg\n",
            "[%] File Downloaded !\n",
            "\n",
            "[%] Downloading Image #27 from https://www.hdwallpapers.in/download/forest_under_moon_sky_hd_dark_aesthetic-1366x768.jpg\n",
            "[%] File Downloaded !\n",
            "\n",
            "[%] Downloading Image #28 from https://www.hdwallpapers.in/download/brown_squirrel_is_standing_on_tree_trunk_eating_nuts_hd_animals-1280x720.jpg\n",
            "[%] File Downloaded !\n",
            "\n",
            "[%] Downloading Image #29 from https://www.hdwallpapers.in/download/exodus_gods_and_kings_movie-1920x1080.jpg\n",
            "[%] File Downloaded !\n",
            "\n",
            "[%] Downloading Image #30 from https://www.hdwallpapers.in/download/notre_dame_fire_art_paris_france_hd_travel-1280x720.jpg\n",
            "[%] File Downloaded !\n",
            "\n",
            "\n",
            "\n",
            "[%] Done. Downloaded 30 images.\n",
            "\n",
            "===============================================\n",
            "\n",
            "time: 31.3 s (started: 2021-04-28 14:00:26 +00:00)\n"
          ],
          "name": "stdout"
        }
      ]
    },
    {
      "cell_type": "code",
      "metadata": {
        "colab": {
          "base_uri": "https://localhost:8080/"
        },
        "id": "6LTCt2lumHjn",
        "outputId": "84b83412-f886-46dc-848d-b8069cc4947f"
      },
      "source": [
        "downloader.download(\"simple ceiling fan\", limit=30,output_dir='images',adult_filter_off = True)"
      ],
      "execution_count": 7,
      "outputs": [
        {
          "output_type": "stream",
          "text": [
            "\n",
            "\n",
            "[!!]Indexing page: 1\n",
            "\n",
            "[%] Indexed 12 Images on Page 1.\n",
            "\n",
            "===============================================\n",
            "\n",
            "[%] Downloading Image #1 from https://i.pinimg.com/736x/db/6a/79/db6a79068e31d4529e150a4e62119f22--ceiling-design.jpg\n",
            "[%] File Downloaded !\n",
            "\n",
            "[%] Downloading Image #2 from https://www.tiltoncofferedceilings.com/wp-content/uploads/2014/08/Image-2.jpg\n",
            "[%] File Downloaded !\n",
            "\n",
            "[%] Downloading Image #3 from https://i.pinimg.com/originals/04/d7/a7/04d7a7c815eb974741bc56ff37a5a9de.jpg\n",
            "[%] File Downloaded !\n",
            "\n",
            "[%] Downloading Image #4 from http://i.ytimg.com/vi/ITXqFe_aG1I/hqdefault.jpg\n",
            "[%] File Downloaded !\n",
            "\n",
            "[%] Downloading Image #5 from https://warisanlighting.com/wp-content/uploads/parser/ceiling-fan-for-high-ceiling-7.jpg\n",
            "[%] File Downloaded !\n",
            "\n",
            "[%] Downloading Image #6 from https://www.doityourself.com/forum/attachments/lighting-light-fixtures-ceiling-exhaust-fans/1684d1341771956-looking-ceiling-fan-options-img_metal_raceway.jpg\n",
            "[%] File Downloaded !\n",
            "\n",
            "[%] Downloading Image #7 from https://www.doityourself.com/forum/attachments/electrical-ac-dc/38997d1411918949-ceiling-fan-light-switch-hunter-27182-no-ground-hookup-switcha.jpg\n",
            "[%] File Downloaded !\n",
            "\n",
            "[%] Downloading Image #8 from http://messagenote.com/wp-content/uploads/2015/04/Bedroom-with-calm-cool-blues-grays.jpg\n",
            "[%] File Downloaded !\n",
            "\n",
            "[%] Downloading Image #9 from http://www.tlc-direct.co.uk/Images/Products/size_3/AD01C.JPG\n",
            "[%] File Downloaded !\n",
            "\n",
            "[%] Downloading Image #10 from http://clipground.com/images/blue-ceiling-clipart-7.jpg\n",
            "[%] File Downloaded !\n",
            "\n",
            "[%] Downloading Image #11 from https://todayshomeowner.com/wp-content/uploads/2011/04/746-2-tips-installing-bathroom-exhaust-vent-fan.jpg\n",
            "[Error]Invalid image, not saving https://todayshomeowner.com/wp-content/uploads/2011/04/746-2-tips-installing-bathroom-exhaust-vent-fan.jpg\n",
            "\n",
            "[!] Issue getting: https://todayshomeowner.com/wp-content/uploads/2011/04/746-2-tips-installing-bathroom-exhaust-vent-fan.jpg\n",
            "[!] Error:: No active exception to reraise\n",
            "[%] Downloading Image #11 from https://thumb.bibliocad.com/images/content/00070000/4000/74700.gif\n",
            "[%] File Downloaded !\n",
            "\n",
            "\n",
            "\n",
            "[!!]Indexing page: 2\n",
            "\n",
            "[%] Indexed 12 Images on Page 2.\n",
            "\n",
            "===============================================\n",
            "\n",
            "[%] Downloading Image #12 from https://i.pinimg.com/736x/db/6a/79/db6a79068e31d4529e150a4e62119f22--ceiling-design.jpg\n",
            "[%] File Downloaded !\n",
            "\n",
            "[%] Downloading Image #13 from https://www.tiltoncofferedceilings.com/wp-content/uploads/2014/08/Image-2.jpg\n",
            "[%] File Downloaded !\n",
            "\n",
            "[%] Downloading Image #14 from https://i.pinimg.com/originals/04/d7/a7/04d7a7c815eb974741bc56ff37a5a9de.jpg\n",
            "[%] File Downloaded !\n",
            "\n",
            "[%] Downloading Image #15 from http://i.ytimg.com/vi/ITXqFe_aG1I/hqdefault.jpg\n",
            "[%] File Downloaded !\n",
            "\n",
            "[%] Downloading Image #16 from https://warisanlighting.com/wp-content/uploads/parser/ceiling-fan-for-high-ceiling-7.jpg\n",
            "[%] File Downloaded !\n",
            "\n",
            "[%] Downloading Image #17 from https://www.doityourself.com/forum/attachments/lighting-light-fixtures-ceiling-exhaust-fans/1684d1341771956-looking-ceiling-fan-options-img_metal_raceway.jpg\n",
            "[%] File Downloaded !\n",
            "\n",
            "[%] Downloading Image #18 from https://www.doityourself.com/forum/attachments/electrical-ac-dc/38997d1411918949-ceiling-fan-light-switch-hunter-27182-no-ground-hookup-switcha.jpg\n",
            "[%] File Downloaded !\n",
            "\n",
            "[%] Downloading Image #19 from http://messagenote.com/wp-content/uploads/2015/04/Bedroom-with-calm-cool-blues-grays.jpg\n",
            "[%] File Downloaded !\n",
            "\n",
            "[%] Downloading Image #20 from http://www.tlc-direct.co.uk/Images/Products/size_3/AD01C.JPG\n",
            "[%] File Downloaded !\n",
            "\n",
            "[%] Downloading Image #21 from http://clipground.com/images/blue-ceiling-clipart-7.jpg\n",
            "[%] File Downloaded !\n",
            "\n",
            "[%] Downloading Image #22 from https://todayshomeowner.com/wp-content/uploads/2011/04/746-2-tips-installing-bathroom-exhaust-vent-fan.jpg\n",
            "[Error]Invalid image, not saving https://todayshomeowner.com/wp-content/uploads/2011/04/746-2-tips-installing-bathroom-exhaust-vent-fan.jpg\n",
            "\n",
            "[!] Issue getting: https://todayshomeowner.com/wp-content/uploads/2011/04/746-2-tips-installing-bathroom-exhaust-vent-fan.jpg\n",
            "[!] Error:: No active exception to reraise\n",
            "[%] Downloading Image #22 from https://thumb.bibliocad.com/images/content/00070000/4000/74700.gif\n",
            "[%] File Downloaded !\n",
            "\n",
            "\n",
            "\n",
            "[!!]Indexing page: 3\n",
            "\n",
            "[%] Indexed 11 Images on Page 3.\n",
            "\n",
            "===============================================\n",
            "\n",
            "[%] Downloading Image #23 from https://www.tiltoncofferedceilings.com/wp-content/uploads/2014/08/Image-2.jpg\n",
            "[%] File Downloaded !\n",
            "\n",
            "[%] Downloading Image #24 from https://i.pinimg.com/originals/04/d7/a7/04d7a7c815eb974741bc56ff37a5a9de.jpg\n",
            "[%] File Downloaded !\n",
            "\n",
            "[%] Downloading Image #25 from http://i.ytimg.com/vi/ITXqFe_aG1I/hqdefault.jpg\n",
            "[%] File Downloaded !\n",
            "\n",
            "[%] Downloading Image #26 from https://warisanlighting.com/wp-content/uploads/parser/ceiling-fan-for-high-ceiling-7.jpg\n",
            "[%] File Downloaded !\n",
            "\n",
            "[%] Downloading Image #27 from https://www.doityourself.com/forum/attachments/lighting-light-fixtures-ceiling-exhaust-fans/1684d1341771956-looking-ceiling-fan-options-img_metal_raceway.jpg\n",
            "[%] File Downloaded !\n",
            "\n",
            "[%] Downloading Image #28 from https://www.doityourself.com/forum/attachments/electrical-ac-dc/38997d1411918949-ceiling-fan-light-switch-hunter-27182-no-ground-hookup-switcha.jpg\n",
            "[%] File Downloaded !\n",
            "\n",
            "[%] Downloading Image #29 from http://messagenote.com/wp-content/uploads/2015/04/Bedroom-with-calm-cool-blues-grays.jpg\n",
            "[%] File Downloaded !\n",
            "\n",
            "[%] Downloading Image #30 from http://www.tlc-direct.co.uk/Images/Products/size_3/AD01C.JPG\n",
            "[%] File Downloaded !\n",
            "\n",
            "\n",
            "\n",
            "[%] Done. Downloaded 30 images.\n",
            "\n",
            "===============================================\n",
            "\n",
            "time: 11.1 s (started: 2021-04-28 14:00:57 +00:00)\n"
          ],
          "name": "stdout"
        }
      ]
    },
    {
      "cell_type": "code",
      "metadata": {
        "colab": {
          "base_uri": "https://localhost:8080/"
        },
        "id": "KSqgZyWmnX_S",
        "outputId": "bd1153a6-72a1-4c91-bfe6-2716a6854ee6"
      },
      "source": [
        "import os\n",
        "import matplotlib.pyplot as plt\n",
        "import numpy as np\n",
        "from skimage.io import imread\n",
        "from skimage.transform import resize\n",
        "\n",
        "target = []\n",
        "images = []\n",
        "flat_data = []\n",
        "\n",
        "DATADIR = '/content/images'\n",
        "CATEGORIES = ['laptops','single pumpkin','simple ceiling fan']\n",
        "\n",
        "for category in CATEGORIES:\n",
        "  class_num = CATEGORIES.index(category)\n",
        "  path = os.path.join(DATADIR, category)\n",
        "  for img in os.listdir(path):\n",
        "    img_array = imread(os.path.join(path,img))\n",
        "    img_resized = resize(img_array,(150,150,3))\n",
        "    flat_data.append(img_resized.flatten())\n",
        "    images.append(img_resized)\n",
        "    target.append(class_num)\n",
        "\n",
        "flat_data = np.array(flat_data)\n",
        "target = np.array(target)\n",
        "images = np.array(images) "
      ],
      "execution_count": 8,
      "outputs": [
        {
          "output_type": "stream",
          "text": [
            "time: 21.9 s (started: 2021-04-28 14:01:09 +00:00)\n"
          ],
          "name": "stdout"
        }
      ]
    },
    {
      "cell_type": "code",
      "metadata": {
        "colab": {
          "base_uri": "https://localhost:8080/",
          "height": 299
        },
        "id": "jYzGaW8gmsSQ",
        "outputId": "8edc758e-fabb-41aa-a066-d9332adda91a"
      },
      "source": [
        "unique,count = np.unique(target,return_counts=True)\n",
        "plt.bar(CATEGORIES,count)"
      ],
      "execution_count": 9,
      "outputs": [
        {
          "output_type": "execute_result",
          "data": {
            "text/plain": [
              "<BarContainer object of 3 artists>"
            ]
          },
          "metadata": {
            "tags": []
          },
          "execution_count": 9
        },
        {
          "output_type": "display_data",
          "data": {
            "image/png": "[encoded data removed]",
            "text/plain": [
              "<Figure size 432x288 with 1 Axes>"
            ]
          },
          "metadata": {
            "tags": [],
            "needs_background": "light"
          }
        },
        {
          "output_type": "stream",
          "text": [
            "time: 188 ms (started: 2021-04-28 14:01:36 +00:00)\n"
          ],
          "name": "stdout"
        }
      ]
    },
    {
      "cell_type": "code",
      "metadata": {
        "colab": {
          "base_uri": "https://localhost:8080/"
        },
        "id": "J1JFHHVAxn34",
        "outputId": "1689c9ae-a94e-4cd3-8bf8-bb9eee8d63fb"
      },
      "source": [
        "from sklearn.model_selection import train_test_split\n",
        "x_train,x_test,y_train,y_test = train_test_split(flat_data,target,test_size=0.3,random_state=109)\n"
      ],
      "execution_count": 10,
      "outputs": [
        {
          "output_type": "stream",
          "text": [
            "time: 22.3 ms (started: 2021-04-28 14:02:00 +00:00)\n"
          ],
          "name": "stdout"
        }
      ]
    },
    {
      "cell_type": "code",
      "metadata": {
        "colab": {
          "base_uri": "https://localhost:8080/"
        },
        "id": "lvXzezVZyEUT",
        "outputId": "993f9c42-51ab-45f6-c559-6412e79a53de"
      },
      "source": [
        "from sklearn.model_selection import GridSearchCV\n",
        "from sklearn import svm\n",
        "param_grid = [\n",
        "              {'C':[1,10,100,1000],'kernel':['linear']},\n",
        "              {'C':[1,10,100,1000],'gamma':[0.001,0.0001],'kernel':['linear']},                            \n",
        "]\n",
        "\n",
        "svc = svm.SVC(probability=True)\n",
        "clf = GridSearchCV(svc,param_grid)\n",
        "clf.fit(x_train,y_train)\n"
      ],
      "execution_count": 11,
      "outputs": [
        {
          "output_type": "execute_result",
          "data": {
            "text/plain": [
              "GridSearchCV(cv=None, error_score=nan,\n",
              "             estimator=SVC(C=1.0, break_ties=False, cache_size=200,\n",
              "                           class_weight=None, coef0=0.0,\n",
              "                           decision_function_shape='ovr', degree=3,\n",
              "                           gamma='scale', kernel='rbf', max_iter=-1,\n",
              "                           probability=True, random_state=None, shrinking=True,\n",
              "                           tol=0.001, verbose=False),\n",
              "             iid='deprecated', n_jobs=None,\n",
              "             param_grid=[{'C': [1, 10, 100, 1000], 'kernel': ['linear']},\n",
              "                         {'C': [1, 10, 100, 1000], 'gamma': [0.001, 0.0001],\n",
              "                          'kernel': ['linear']}],\n",
              "             pre_dispatch='2*n_jobs', refit=True, return_train_score=False,\n",
              "             scoring=None, verbose=0)"
            ]
          },
          "metadata": {
            "tags": []
          },
          "execution_count": 11
        },
        {
          "output_type": "stream",
          "text": [
            "time: 1min 36s (started: 2021-04-28 14:02:16 +00:00)\n"
          ],
          "name": "stdout"
        }
      ]
    },
    {
      "cell_type": "code",
      "metadata": {
        "colab": {
          "base_uri": "https://localhost:8080/"
        },
        "id": "uaBoxt53zlGJ",
        "outputId": "6886ee30-b28b-43bd-f22f-9fe3bd03fb55"
      },
      "source": [
        "y_pred = clf.predict(x_test)\n",
        "y_pred"
      ],
      "execution_count": 12,
      "outputs": [
        {
          "output_type": "execute_result",
          "data": {
            "text/plain": [
              "array([1, 2, 1, 2, 2, 1, 1, 2, 2, 0, 1, 0, 1, 2, 2, 1, 2, 2, 0, 1, 2, 2,\n",
              "       2, 0, 2, 0, 1])"
            ]
          },
          "metadata": {
            "tags": []
          },
          "execution_count": 12
        },
        {
          "output_type": "stream",
          "text": [
            "time: 152 ms (started: 2021-04-28 14:03:56 +00:00)\n"
          ],
          "name": "stdout"
        }
      ]
    },
    {
      "cell_type": "code",
      "metadata": {
        "colab": {
          "base_uri": "https://localhost:8080/"
        },
        "id": "ta3ZkQPoztWy",
        "outputId": "31d91e5d-af32-4668-b31c-89a4942784a2"
      },
      "source": [
        "y_test"
      ],
      "execution_count": 13,
      "outputs": [
        {
          "output_type": "execute_result",
          "data": {
            "text/plain": [
              "array([1, 0, 1, 2, 2, 1, 0, 1, 1, 0, 1, 0, 1, 2, 2, 1, 2, 1, 0, 1, 2, 2,\n",
              "       2, 0, 0, 0, 1])"
            ]
          },
          "metadata": {
            "tags": []
          },
          "execution_count": 13
        },
        {
          "output_type": "stream",
          "text": [
            "time: 6.55 ms (started: 2021-04-28 14:04:03 +00:00)\n"
          ],
          "name": "stdout"
        }
      ]
    },
    {
      "cell_type": "code",
      "metadata": {
        "colab": {
          "base_uri": "https://localhost:8080/"
        },
        "id": "bIIsKCekzxW6",
        "outputId": "219c87ed-18d5-4701-8d79-6deea3f9106e"
      },
      "source": [
        "from sklearn.metrics import accuracy_score,confusion_matrix"
      ],
      "execution_count": 14,
      "outputs": [
        {
          "output_type": "stream",
          "text": [
            "time: 954 µs (started: 2021-04-28 14:04:07 +00:00)\n"
          ],
          "name": "stdout"
        }
      ]
    },
    {
      "cell_type": "code",
      "metadata": {
        "colab": {
          "base_uri": "https://localhost:8080/"
        },
        "id": "rXFKEnhk0AQo",
        "outputId": "b06ea85e-7534-44f9-eb53-32d704646509"
      },
      "source": [
        "accuracy_score(y_pred,y_test)"
      ],
      "execution_count": 15,
      "outputs": [
        {
          "output_type": "execute_result",
          "data": {
            "text/plain": [
              "0.7777777777777778"
            ]
          },
          "metadata": {
            "tags": []
          },
          "execution_count": 15
        },
        {
          "output_type": "stream",
          "text": [
            "time: 8.38 ms (started: 2021-04-28 14:04:12 +00:00)\n"
          ],
          "name": "stdout"
        }
      ]
    },
    {
      "cell_type": "code",
      "metadata": {
        "colab": {
          "base_uri": "https://localhost:8080/"
        },
        "id": "y3q3moegzvhX",
        "outputId": "9885347b-de93-4113-bc2e-3c3717924308"
      },
      "source": [
        "confusion_matrix(y_pred,y_test)"
      ],
      "execution_count": 16,
      "outputs": [
        {
          "output_type": "execute_result",
          "data": {
            "text/plain": [
              "array([[5, 0, 0],\n",
              "       [1, 8, 0],\n",
              "       [2, 3, 8]])"
            ]
          },
          "metadata": {
            "tags": []
          },
          "execution_count": 16
        },
        {
          "output_type": "stream",
          "text": [
            "time: 6.25 ms (started: 2021-04-28 14:04:19 +00:00)\n"
          ],
          "name": "stdout"
        }
      ]
    },
    {
      "cell_type": "code",
      "metadata": {
        "colab": {
          "base_uri": "https://localhost:8080/"
        },
        "id": "DDeRxIMW0Ntm",
        "outputId": "ea532ffd-0d72-4b61-984a-b861299dd525"
      },
      "source": [
        "import pickle\n",
        "pickle.dump(clf,open('img_model.p','wb'))"
      ],
      "execution_count": 17,
      "outputs": [
        {
          "output_type": "stream",
          "text": [
            "time: 33.8 ms (started: 2021-04-28 14:04:24 +00:00)\n"
          ],
          "name": "stdout"
        }
      ]
    },
    {
      "cell_type": "code",
      "metadata": {
        "colab": {
          "base_uri": "https://localhost:8080/"
        },
        "id": "5A01p5P40sG1",
        "outputId": "67cc7b8c-98c4-403a-9fdb-84cdacbede28"
      },
      "source": [
        "model = pickle.load(open('img_model.p','rb'))"
      ],
      "execution_count": 18,
      "outputs": [
        {
          "output_type": "stream",
          "text": [
            "time: 23.6 ms (started: 2021-04-28 14:04:26 +00:00)\n"
          ],
          "name": "stdout"
        }
      ]
    },
    {
      "cell_type": "code",
      "metadata": {
        "colab": {
          "base_uri": "https://localhost:8080/",
          "height": 517
        },
        "id": "tBtMvD2604et",
        "outputId": "d6c2dae9-a814-4146-bdb4-fb484cc0ef68"
      },
      "source": [
        "flat_data = []\n",
        "url = input('Enter your URL')\n",
        "img = imread(url) \n",
        "img_resized = resize(img,(150,150,3))\n",
        "flat_data.append(img_resized.flatten())\n",
        "flat_data = np.array(flat_data)\n",
        "print(img.shape)\n",
        "plt.imshow(img_resized)\n",
        "y_out = (model.predict(flat_data))\n",
        "y_out = CATEGORIES(y_out[0])\n",
        "print(f'PREDICTED OUTPUT: {y_out}')"
      ],
      "execution_count": 20,
      "outputs": [
        {
          "output_type": "stream",
          "text": [
            "Enter your URLhttps://cdn.neow.in/news/images/uploaded/2019/07/1562628733_portege_x30-f_02_win10.jpg\n",
            "(3449, 6132, 3)\n"
          ],
          "name": "stdout"
        },
        {
          "output_type": "error",
          "ename": "TypeError",
          "evalue": "ignored",
          "traceback": [
            "\u001b[0;31m---------------------------------------------------------------------------\u001b[0m",
            "\u001b[0;31mTypeError\u001b[0m                                 Traceback (most recent call last)",
            "\u001b[0;32m<ipython-input-20-85297c96c438>\u001b[0m in \u001b[0;36m<module>\u001b[0;34m()\u001b[0m\n\u001b[1;32m      8\u001b[0m \u001b[0mplt\u001b[0m\u001b[0;34m.\u001b[0m\u001b[0mimshow\u001b[0m\u001b[0;34m(\u001b[0m\u001b[0mimg_resized\u001b[0m\u001b[0;34m)\u001b[0m\u001b[0;34m\u001b[0m\u001b[0;34m\u001b[0m\u001b[0m\n\u001b[1;32m      9\u001b[0m \u001b[0my_out\u001b[0m \u001b[0;34m=\u001b[0m \u001b[0;34m(\u001b[0m\u001b[0mmodel\u001b[0m\u001b[0;34m.\u001b[0m\u001b[0mpredict\u001b[0m\u001b[0;34m(\u001b[0m\u001b[0mflat_data\u001b[0m\u001b[0;34m)\u001b[0m\u001b[0;34m)\u001b[0m\u001b[0;34m\u001b[0m\u001b[0;34m\u001b[0m\u001b[0m\n\u001b[0;32m---> 10\u001b[0;31m \u001b[0my_out\u001b[0m \u001b[0;34m=\u001b[0m \u001b[0mCATEGORIES\u001b[0m\u001b[0;34m(\u001b[0m\u001b[0my_out\u001b[0m\u001b[0;34m[\u001b[0m\u001b[0;36m0\u001b[0m\u001b[0;34m]\u001b[0m\u001b[0;34m)\u001b[0m\u001b[0;34m\u001b[0m\u001b[0;34m\u001b[0m\u001b[0m\n\u001b[0m\u001b[1;32m     11\u001b[0m \u001b[0mprint\u001b[0m\u001b[0;34m(\u001b[0m\u001b[0;34mf'PREDICTED OUTPUT: {y_out}'\u001b[0m\u001b[0;34m)\u001b[0m\u001b[0;34m\u001b[0m\u001b[0;34m\u001b[0m\u001b[0m\n",
            "\u001b[0;31mTypeError\u001b[0m: 'list' object is not callable"
          ]
        },
        {
          "output_type": "display_data",
          "data": {
            "image/png": "[encoded data removed]",
            "text/plain": [
              "<Figure size 432x288 with 1 Axes>"
            ]
          },
          "metadata": {
            "tags": [],
            "needs_background": "light"
          }
        },
        {
          "output_type": "stream",
          "text": [
            "time: 1min 8s (started: 2021-04-28 14:06:21 +00:00)\n"
          ],
          "name": "stdout"
        }
      ]
    }
  ]
}